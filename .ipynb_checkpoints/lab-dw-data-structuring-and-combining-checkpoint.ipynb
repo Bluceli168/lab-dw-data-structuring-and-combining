{
 "cells": [
  {
   "cell_type": "markdown",
   "id": "25d7736c-ba17-4aff-b6bb-66eba20fbf4e",
   "metadata": {
    "id": "25d7736c-ba17-4aff-b6bb-66eba20fbf4e"
   },
   "source": [
    "# Lab | Data Structuring and Combining Data"
   ]
  },
  {
   "cell_type": "markdown",
   "id": "a2cdfc70-44c8-478c-81e7-2bc43fdf4986",
   "metadata": {
    "id": "a2cdfc70-44c8-478c-81e7-2bc43fdf4986"
   },
   "source": [
    "## Challenge 1: Combining & Cleaning Data\n",
    "\n",
    "In this challenge, we will be working with the customer data from an insurance company, as we did in the two previous labs. The data can be found here:\n",
    "- https://raw.githubusercontent.com/data-bootcamp-v4/data/main/file1.csv\n",
    "\n",
    "But this time, we got new data, which can be found in the following 2 CSV files located at the links below.\n",
    "\n",
    "- https://raw.githubusercontent.com/data-bootcamp-v4/data/main/file2.csv\n",
    "- https://raw.githubusercontent.com/data-bootcamp-v4/data/main/file3.csv\n",
    "\n",
    "Note that you'll need to clean and format the new data.\n",
    "\n",
    "Observation:\n",
    "- One option is to first combine the three datasets and then apply the cleaning function to the new combined dataset\n",
    "- Another option would be to read the clean file you saved in the previous lab, and just clean the two new files and concatenate the three clean datasets"
   ]
  },
  {
   "cell_type": "code",
   "execution_count": null,
   "id": "492d06e3-92c7-4105-ac72-536db98d3244",
   "metadata": {
    "id": "492d06e3-92c7-4105-ac72-536db98d3244"
   },
   "outputs": [],
   "source": [
    "# Your code goes here"
   ]
  },
  {
   "cell_type": "markdown",
   "id": "31b8a9e7-7db9-4604-991b-ef6771603e57",
   "metadata": {
    "id": "31b8a9e7-7db9-4604-991b-ef6771603e57"
   },
   "source": [
    "# Challenge 2: Structuring Data"
   ]
  },
  {
   "cell_type": "markdown",
   "id": "a877fd6d-7a0c-46d2-9657-f25036e4ca4b",
   "metadata": {
    "id": "a877fd6d-7a0c-46d2-9657-f25036e4ca4b"
   },
   "source": [
    "In this challenge, we will continue to work with customer data from an insurance company, but we will use a dataset with more columns, called marketing_customer_analysis.csv, which can be found at the following link:\n",
    "\n",
    "https://raw.githubusercontent.com/data-bootcamp-v4/data/main/marketing_customer_analysis_clean.csv\n",
    "\n",
    "This dataset contains information such as customer demographics, policy details, vehicle information, and the customer's response to the last marketing campaign. Our goal is to explore and analyze this data by performing data cleaning, formatting, and structuring."
   ]
  },
  {
   "cell_type": "code",
   "execution_count": null,
   "id": "aa10d9b0-1c27-4d3f-a8e4-db6ab73bfd26",
   "metadata": {
    "id": "aa10d9b0-1c27-4d3f-a8e4-db6ab73bfd26"
   },
   "outputs": [],
   "source": [
    "# Your code goes here"
   ]
  },
  {
   "cell_type": "markdown",
   "id": "df35fd0d-513e-4e77-867e-429da10a9cc7",
   "metadata": {
    "id": "df35fd0d-513e-4e77-867e-429da10a9cc7"
   },
   "source": [
    "1. You work at the marketing department and you want to know which sales channel brought the most sales in terms of total revenue. Using pivot, create a summary table showing the total revenue for each sales channel (branch, call center, web, and mail).\n",
    "Round the total revenue to 2 decimal points.  Analyze the resulting table to draw insights."
   ]
  },
  {
   "cell_type": "markdown",
   "id": "640993b2-a291-436c-a34d-a551144f8196",
   "metadata": {
    "id": "640993b2-a291-436c-a34d-a551144f8196"
   },
   "source": [
    "2. Create a pivot table that shows the average customer lifetime value per gender and education level. Analyze the resulting table to draw insights."
   ]
  },
  {
   "cell_type": "markdown",
   "id": "32c7f2e5-3d90-43e5-be33-9781b6069198",
   "metadata": {
    "id": "32c7f2e5-3d90-43e5-be33-9781b6069198"
   },
   "source": [
    "## Bonus\n",
    "\n",
    "You work at the customer service department and you want to know which months had the highest number of complaints by policy type category. Create a summary table showing the number of complaints by policy type and month.\n",
    "Show it in a long format table."
   ]
  },
  {
   "cell_type": "markdown",
   "id": "e3d09a8f-953c-448a-a5f8-2e5a8cca7291",
   "metadata": {
    "id": "e3d09a8f-953c-448a-a5f8-2e5a8cca7291"
   },
   "source": [
    "*In data analysis, a long format table is a way of structuring data in which each observation or measurement is stored in a separate row of the table. The key characteristic of a long format table is that each column represents a single variable, and each row represents a single observation of that variable.*\n",
    "\n",
    "*More information about long and wide format tables here: https://www.statology.org/long-vs-wide-data/*"
   ]
  },
  {
   "cell_type": "code",
   "execution_count": null,
   "id": "3a069e0b-b400-470e-904d-d17582191be4",
   "metadata": {
    "id": "3a069e0b-b400-470e-904d-d17582191be4"
   },
   "outputs": [],
   "source": [
    "## Challenge 1\n",
    "\n",
    "import pandas as pd\n",
    "import numpy as np\n",
    "from datetime import datetime\n",
    "from dateutil.relativedelta import relativedelta\n",
    "\n",
    "df1 = pd.read_csv('https://raw.githubusercontent.com/data-bootcamp-v4/data/main/file1.csv')\n",
    "df2 = pd.read_csv('https://raw.githubusercontent.com/data-bootcamp-v4/data/main/file2.csv')\n",
    "df3 = pd.read_csv('https://raw.githubusercontent.com/data-bootcamp-v4/data/main/file3.csv')\n",
    "df = pd.concat([df1,df2,df3],ignore_index=True)\n",
    "df['new_gender'] = df['GENDER'].combine_first(df['Gender'])\n",
    "df['new_state'] = df['ST'].combine_first(df['State'])\n",
    "df.drop(columns=['Gender','GENDER'],inplace=True)\n",
    "df.drop(columns=['ST','State'],inplace=True)\n",
    "\n",
    "df.columns = df.columns.str.strip().str.lower().str.replace(' ','_')\n",
    "\n",
    "df = df.applymap(lambda x: x.strip().lower() if isinstance(x, str) else x)\n",
    "\n",
    "df['new_gender'].replace({'male':'m','female':'f','femal':'f'},inplace=True)\n",
    "df['new_state'].replace({'az':'arizona','cali':'california','wa':'washington'},inplace=True)\n",
    "df['education'].replace('bachelors', 'bachelor',inplace=True)\n",
    "df['customer_lifetime_value']=df['customer_lifetime_value'].str.replace('%','').astype(float)\n",
    "df['vehicle_class'].replace({'sports car':'luxury','luxury suv':'luxury','luxury car':'luxury'},inplace=True)\n",
    "\n",
    "df['number_of_open_complaints']=df['number_of_open_complaints'].str.split('/').str[1]\n",
    "df['number_of_open_complaints']= pd.to_numeric(df['number_of_open_complaints'])\n",
    "df['number_of_open_complaints']=df['number_of_open_complaints'].fillna(0)\n",
    "\n",
    "# drop all those rows which value show NaN or \" \" in customer columns because it doesn't make any sense to keep such rows\n",
    "df['customer'].replace('',np.nan, inplace = True)\n",
    "df = df.dropna(subset=['customer'])\n",
    "\n",
    "df['customer_lifetime_value'].replace('',np.nan, inplace = True)\n",
    "df['customer_lifetime_value'] = df['customer_lifetime_value'].fillna(df['customer_lifetime_value'].mean())\n",
    "df['customer_lifetime_value'] = df['customer_lifetime_value'].apply(lambda x:'{:.2f}'.format(x))\n",
    "print(df.isnull().sum())\n",
    "df\n",
    "\n",
    "## Challenge 2\n",
    "df4 = pd.read_csv('https://raw.githubusercontent.com/data-bootcamp-v4/data/main/marketing_customer_analysis_clean.csv')\n",
    "#print(df4.isnull().sum())\n",
    "df4.columns = df4.columns.str.strip().str.lower().str.replace(' ','_')\n",
    "df4 = df4.apply(lambda x: x.str.strip().str.lower() if x.dtype == \"object\" else x)\n",
    "\n",
    "df4.drop_duplicates(subset=['customer_lifetime_value','education','income',],keep='first',inplace = True)\n",
    "\n",
    "print(f\"I extra found except below 3 columns, all other columns are same between latest df (from challenge 1) and df4 from challenge 2\")\n",
    "print(f\"So i add below 3 columns, into df4 to get final completed dataframe\")\n",
    "\n",
    "merged_df = pd.merge(df[['customer','income','monthly_premium_auto','number_of_open_complaints']],df4, on='customer', how='left')\n",
    "merged_df.dropna(subset=['customer'],inplace=True)\n",
    "merged_df.dropna(subset=['customer_lifetime_value'],inplace=True)\n",
    "# continue cleannign data for new merged df \n",
    "merged_df['income'] = merged_df['income_x'].combine_first(merged_df['income_y'])\n",
    "merged_df.drop(columns=['income_x','income_y'],inplace=True)\n",
    "merged_df['monthly_premium_auto'] = merged_df['monthly_premium_auto_x'].combine_first(merged_df['monthly_premium_auto_y'])\n",
    "merged_df.drop(columns=['monthly_premium_auto_x','monthly_premium_auto_y'],inplace=True)\n",
    "merged_df['number_of_open_complaints'] = merged_df['number_of_open_complaints_x'].combine_first(merged_df['number_of_open_complaints_y'])\n",
    "merged_df.drop(columns=['number_of_open_complaints_x','number_of_open_complaints_y'],inplace=True)\n",
    "# insert new column \" total_revenue\" to basing on total premium - total claim amount\n",
    "merged_df['total_revenue'] = (merged_df['monthly_premium_auto'] * merged_df['months_since_policy_inception'] - merged_df['total_claim_amount']).round(2)\n",
    "\n",
    "pivot_table1= pd.pivot_table(merged_df,values='total_revenue',index = 'sales_channel',aggfunc='sum')\n",
    "pivot_table_sort1 = pivot_table1.sort_values(by='total_revenue',ascending=False)\n",
    "print(pivot_table_sort1)\n",
    "print(f\"From above statistic insurance should invest more on web (because increasing potential is largest) and agent(most profitable) sales channel\")\n",
    "\n",
    "pivot_table2= pd.pivot_table(merged_df,values='customer_lifetime_value',index = 'gender',columns='education',aggfunc='mean')\n",
    "print(pivot_table2)\n",
    "print(f\"From above statistic insurance should invest more on customer with education are high school or below to profit most from customer_lifetime_value\")\n",
    "print()\n",
    "print()\n",
    "# Bonus exercise\n",
    "\n",
    "today = datetime.today()\n",
    "merged_df['last_claim_month_num'] = merged_df['months_since_last_claim'].apply(lambda x: (today - relativedelta(months=int(x))).month)\n",
    "pivot_table3= pd.pivot_table(merged_df,values='number_of_open_complaints',index = 'last_claim_month_num',columns='policy_type',aggfunc='sum')\n",
    "print(pivot_table3)\n"
   ]
  }
 ],
 "metadata": {
  "colab": {
   "provenance": []
  },
  "kernelspec": {
   "display_name": "Python 3 (ipykernel)",
   "language": "python",
   "name": "python3"
  },
  "language_info": {
   "codemirror_mode": {
    "name": "ipython",
    "version": 3
   },
   "file_extension": ".py",
   "mimetype": "text/x-python",
   "name": "python",
   "nbconvert_exporter": "python",
   "pygments_lexer": "ipython3",
   "version": "3.12.4"
  }
 },
 "nbformat": 4,
 "nbformat_minor": 5
}
